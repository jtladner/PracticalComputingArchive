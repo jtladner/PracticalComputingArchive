{
 "cells": [
  {
   "cell_type": "code",
   "execution_count": 106,
   "metadata": {
    "collapsed": true
   },
   "outputs": [],
   "source": [
    "%matplotlib inline\n",
    "### ^^^^ This line is very important. It activates the Notebooks ability to generate your figures inline within the notebook\n",
    "### Because of this line, you will not need to use the .show() function to visualize your plots\n",
    "\n",
    "import random\n",
    "\n",
    "### Below here, import matplotlib's pyplot module as plt\n",
    "### Go ahead and also import numpy as np\n",
    "### Matplotlib is anticipating data to be provided as a numpy array\n",
    "     ### Several other data types, like lists and panda dataframe's may also work, but this is not guaranteed\n",
    "     ### So, it's often best to convert you data to a numpy array\n",
    "        \n",
    "import matplotlib.pyplot as plt\n",
    "import numpy as np"
   ]
  },
  {
   "cell_type": "code",
   "execution_count": 107,
   "metadata": {},
   "outputs": [
    {
     "data": {
      "image/png": "[encoded data removed]",
      "text/plain": [
       "<matplotlib.figure.Figure at 0x12407cc10>"
      ]
     },
     "metadata": {},
     "output_type": "display_data"
    },
    {
     "data": {
      "image/png": "[encoded data removed]",
      "text/plain": [
       "<matplotlib.figure.Figure at 0x12407cd10>"
      ]
     },
     "metadata": {},
     "output_type": "display_data"
    },
    {
     "data": {
      "image/png": "[encoded data removed]",
      "text/plain": [
       "<matplotlib.figure.Figure at 0x11fa2d2d0>"
      ]
     },
     "metadata": {},
     "output_type": "display_data"
    }
   ],
   "source": [
    "################################\n",
    "### Initiating your canvas   ###\n",
    "################################\n",
    "\n",
    "### The first step in generating a figure with Matplotlib is to initiate your canvas\n",
    "### You can do this with the subplots() function\n",
    "\n",
    "### This barebones version initiates a canvas of default size and with a single Axes object\n",
    "fig, ax = plt.subplots()\n",
    "\n",
    "### This version still has a single Axes object, but now the figure size is being explicitly defined\n",
    "fig, ax = plt.subplots(figsize=(5,5))\n",
    "\n",
    "### Now the canvas being initiated contains 4 distinct plots/Axes objects, arranged in two rows and two columns\n",
    "### The full figure size is still 5 inches by 5 inches\n",
    "fig, axes = plt.subplots(2,2,figsize=(5,5))\n"
   ]
  },
  {
   "cell_type": "code",
   "execution_count": 108,
   "metadata": {},
   "outputs": [
    {
     "data": {
      "text/plain": [
       "<matplotlib.collections.PathCollection at 0x1230aab50>"
      ]
     },
     "execution_count": 108,
     "metadata": {},
     "output_type": "execute_result"
    },
    {
     "data": {
      "image/png": "[encoded data removed]",
      "text/plain": [
       "<matplotlib.figure.Figure at 0x11fe34b90>"
      ]
     },
     "metadata": {},
     "output_type": "display_data"
    }
   ],
   "source": [
    "################################\n",
    "### Adding plot elements     ###\n",
    "################################\n",
    "\n",
    "fig, ax = plt.subplots(figsize=(8,8))\n",
    "\n",
    "### Once you've initiated your canvas, it's time to start adding plot elements\n",
    "### This is done using built-in methods of the Axes object(s) associated with your figure\n",
    "\n",
    "### For example, you can use the scatter method to add a whole series of points defined by x and y coordinates\n",
    "\n",
    "### Here, I'm defining my x and y coordinates\n",
    "x=np.array([0.0385, 0.1215, 0.0867, 0.0439, 0.6318, 0.0681, 0.0809, 0.0382, 0.2123, 0.0249, 0.07, 0.0755, 0.4677, 0.035, 0.3026, 0.332, 0.0307, 0.0456, 0.359, 0.3735, 0.3619, 0.0325, 0.0659, 0.0492, 0.0535, 0.0332, 0.4, 0.5, 0.4505, 0.0445, 0.0314, 0.0991, 0.14, 0.0837, 0.3684, 0.0579, 0.0461, 0.4477, 0.0515, 0.0207, 0.3732, 0.4071, 0.3392, 0.3836, 0.45, 0.3977, 0.4222, 0.0149, 0.0816, 0.0207, 0.3571, 0.3634, 0.034, 0.3827, 0.039, 0.0413, 0.0682, 0.0623, 0.4056, 0.0487, 0.0504, 0.0403, 0.0247, 0.1216, 0.1466, 0.1163, 0.5407, 0.5412, 0.0242, 0.1048, 0.1176, 0.1189, 0.0484, 0.0272, 0.0316, 0.0696, 0.0355, 0.0243, 0.0328, 0.0652, 0.0468, 0.1221, 0.0422, 0.081, 0.0426, 0.5463, 0.0367, 0.4922, 0.0444, 0.065, 0.032, 0.0697, 0.0565, 0.0395, 0.0595, 0.0221])\n",
    "y=np.array([0.0567, 0.0947, 0.1211, 0.0204, 0.557, 0.1053, 0.1091, 0.0623, 0.1532, 0.0636, 0.057, 0.0476, 0.421, 0.001, 0.3616, 0.3673, 0.002, 0.0284, 0.4261, 0.4615, 0.3756, 0.0395, 0.0376, 0.0163, 0.0024, 0.0016, 0.3761, 0.3841, 0.4361, 0.0375, 0.0015, 0.0403, 0.066, 0.0952, 0.3972, 0.0735, 0.0441, 0.4342, 0.0497, 0.0393, 0.303, 0.4575, 0.3587, 0.4075, 0.4259, 0.3429, 0.4791, 0.0521, 0.047, 0.0321, 0.354, 0.3977, 0.018, 0.4438, 0.0565, 0.0481, 0.0704, 0.0964, 0.4426, 0.0461, 0.0397, 0.0511, 0.0324, 0.0822, 0.1407, 0.0984, 0.4797, 0.4671, 0.0387, 0.096, 0.1098, 0.0868, 0.0437, 0.0352, 0.0319, 0.0988, 0.0473, 0.0328, 0.0303, 0.0559, 0.025, 0.1167, 0.0543, 0.0776, 0.0508, 0.6119, 0.0368, 0.4643, 0.0476, 0.0606, 0.0256, 0.0476, 0.0551, 0.0141, 0.0588, 0.0601])\n",
    "\n",
    "### Here I'm adding the scatter points\n",
    "ax.scatter(x,y)\n",
    "### ^^^^^ This command illustrates the most barebone method for creating this scatterplot\n",
    "### But there are many optional parameters that can be specified to change the appearance (see )\n",
    "### Try commenting out the simple version on line 17 and testing each of the following examples in it's place\n",
    "\n",
    "### Here, I'm generating the same plot, but changing the color of the circles to red\n",
    "\n",
    "#ax.scatter(x,y,c='red')\n",
    "\n",
    "### You can also speciy an RGB color in hexaecimal format\n",
    "\n",
    "#ax.scatter(x,y,c='#8856a7')\n",
    "\n",
    "### Or by specifying the proportion of red, green and blue\n",
    "\n",
    "#ax.scatter(x,y,c=(221/256.,28/256.,119/256.))\n",
    "\n",
    "### Here, I've increased the size of all of the points evenly (s=200), and I've made the points transparent (alpha=0.5)\n",
    "\n",
    "#ax.scatter(x,y, s=200, alpha=0.5)\n",
    "\n",
    "### You can also make each point a differnt size\n",
    "\n",
    "#ax.scatter(x,y, s=300*x, alpha=0.5)\n",
    "\n",
    "### Colors can also be provided separately for each point\n",
    "\n",
    "#ax.scatter(x,y, s=300*x, alpha=0.5, c=np.array([random.choice(['#1b9e77','#d95f02','#7570b3']) for each in x]))\n",
    "\n",
    "### The plot() function can be used to add lines to plots\n",
    "### Here, I'm adding a straight line to the plot that passes through (0,0) and has a slope of one\n",
    "\n",
    "#ax.scatter(x,y, zorder=2, s=300*x, c=np.array([random.choice(['#1b9e77','#d95f02','#7570b3']) for each in x]))\n",
    "#ax.plot([0,0.6], [0,0.6], zorder=1, c=(0,0,0))\n",
    "\n",
    "### The 'zorder' parameters allow you to control which of your elements is in the foregound and which is in the background\n",
    "### I've turned off the transparency for this last example, so you can clearly see the scatter points are in the foreground\n"
   ]
  },
  {
   "cell_type": "code",
   "execution_count": 109,
   "metadata": {
    "collapsed": true
   },
   "outputs": [],
   "source": [
    "########################\n",
    "###  Exercise 2.1    ###\n",
    "########################\n",
    "\n",
    "### \"RTT_data.txt\" is a tab-delimited data file containing information for constructing a root-to-tip plot\n",
    "### Read in these data and create a scatter plot with 'date' on the x-axis and 'distance' on the y-axis\n",
    "### **Note that be default, the values form these files will be read as strings.\n",
    "### **Make sure you convert them to int or float, as appropriate, prior to generating your plots\n",
    "### The last portion of the names in the 'tip' column contain information about country of origin (LBR, GUI, MLI)\n",
    "    ### Color each point in the plot according to this geographic information\n",
    "### Also add apropriate axis labels\n",
    "\n"
   ]
  },
  {
   "cell_type": "code",
   "execution_count": 110,
   "metadata": {},
   "outputs": [
    {
     "data": {
      "text/plain": [
       "{'boxes': [<matplotlib.lines.Line2D at 0x12359ac10>,\n",
       "  <matplotlib.lines.Line2D at 0x123784610>],\n",
       " 'caps': [<matplotlib.lines.Line2D at 0x12378d610>,\n",
       "  <matplotlib.lines.Line2D at 0x12378da10>,\n",
       "  <matplotlib.lines.Line2D at 0x123783290>,\n",
       "  <matplotlib.lines.Line2D at 0x123783690>],\n",
       " 'fliers': [<matplotlib.lines.Line2D at 0x123784250>,\n",
       "  <matplotlib.lines.Line2D at 0x123783e90>],\n",
       " 'means': [],\n",
       " 'medians': [<matplotlib.lines.Line2D at 0x12378de10>,\n",
       "  <matplotlib.lines.Line2D at 0x123783a90>],\n",
       " 'whiskers': [<matplotlib.lines.Line2D at 0x12359ad10>,\n",
       "  <matplotlib.lines.Line2D at 0x12378d210>,\n",
       "  <matplotlib.lines.Line2D at 0x123784a50>,\n",
       "  <matplotlib.lines.Line2D at 0x123784e50>]}"
      ]
     },
     "execution_count": 110,
     "metadata": {},
     "output_type": "execute_result"
    },
    {
     "data": {
      "image/png": "[encoded data removed]",
      "text/plain": [
       "<matplotlib.figure.Figure at 0x1232ab310>"
      ]
     },
     "metadata": {},
     "output_type": "display_data"
    }
   ],
   "source": [
    "#################\n",
    "### Box Plots ###\n",
    "#################\n",
    "\n",
    "### Another common tool for visualizing scientific data is the boxplot\n",
    "### The is a boxplot() function specifically for the generation of boxplots\n",
    "\n",
    "### The basic usage is pretty straightforward. \n",
    "### Here we will use the x and y coordinate data used previously to generate the scatterplot\n",
    "\n",
    "fig, ax = plt.subplots(figsize=(6,6))\n",
    "\n",
    "ax.boxplot([x,y])\n",
    "\n",
    "### You can also add notches to show confidence intervals by setting 'notch' to True\n",
    "### Comment out the previous boxplot command and uncomment the command shown below\n",
    "\n",
    "#ax.boxplot([x,y], notch=True)\n",
    "### ^^^^^ In this case, the lower value of the CI is less that the lower quartile, which gives a 'flipped' apprearance to the bottom of the boxplot\n",
    "\n",
    "### You can make the boxplots horizontal by setting vert to False\n",
    "\n",
    "#ax.boxplot([x,y], vert=False)\n",
    "\n",
    "### You can also modify easily modify the location and width of the boxes and add labels for the boxplots\n",
    "\n",
    "#ax.boxplot([x,y], positions=[1,5], widths=[3,3], labels=[\"x-values\", \"y-values\"])\n",
    "\n",
    "### To see the full extent of these boxplots, you need to manually change the x-axis limits\n",
    "\n",
    "#ax.set_xlim(-1,7)\n",
    "\n",
    "### One common problem with the defaults of matplotlib is that the text labels are too small\n",
    "    ### But these are also easy to change\n",
    "\n",
    "#for item in (ax.get_xticklabels() + ax.get_yticklabels()):\n",
    "#    item.set_fontsize(18)\n",
    "\n",
    "### Changing the color of the boxplots is not as straightforward, but also possible\n",
    "\n",
    "#bplot = ax.boxplot([x,y], labels=[\"x-values\", \"y-values\"])\n",
    "#plt.setp(bplot['boxes'], color='blue')\n",
    "#plt.setp(bplot['whiskers'], color='grey')\n",
    "#plt.setp(bplot['caps'], color='grey')\n",
    "#plt.setp(bplot['medians'], color='orange')\n"
   ]
  },
  {
   "cell_type": "code",
   "execution_count": 114,
   "metadata": {},
   "outputs": [
    {
     "name": "stdout",
     "output_type": "stream",
     "text": [
      "<type 'numpy.ndarray'>\n",
      "[[<matplotlib.axes._subplots.AxesSubplot object at 0x12313e0d0>\n",
      "  <matplotlib.axes._subplots.AxesSubplot object at 0x122d69490>\n",
      "  <matplotlib.axes._subplots.AxesSubplot object at 0x122c67d90>]\n",
      " [<matplotlib.axes._subplots.AxesSubplot object at 0x12282b8d0>\n",
      "  <matplotlib.axes._subplots.AxesSubplot object at 0x1227f9290>\n",
      "  <matplotlib.axes._subplots.AxesSubplot object at 0x122cbd4d0>]]\n"
     ]
    },
    {
     "data": {
      "text/plain": [
       "Text(0.5,0.5,u'Examples')"
      ]
     },
     "execution_count": 114,
     "metadata": {},
     "output_type": "execute_result"
    },
    {
     "data": {
      "image/png": "[encoded data removed]",
      "text/plain": [
       "<matplotlib.figure.Figure at 0x123132a90>"
      ]
     },
     "metadata": {},
     "output_type": "display_data"
    }
   ],
   "source": [
    "################################\n",
    "###  Generate multiple plots ###\n",
    "################################\n",
    "\n",
    "### Matplotlib also makes it very easy to create multipl plots within the same figure\n",
    "\n",
    "### Here, I'm creating a canvas containing six different plots\n",
    "\n",
    "fig, axes = plt.subplots(2,3,figsize=(15,10))\n",
    "\n",
    "### Now, instead of having a single Axes object\n",
    "    ### We have a multidimensional array of Axes objects\n",
    "    ### Each corresponding to a single subplot\n",
    "\n",
    "print type(axes)\n",
    "print axes\n",
    "\n",
    "### Here, I am recreating one of our scatter plots within the top left plot\n",
    "#axes[0,0].scatter(x,y, s=300*x, alpha=0.5, c=np.array([random.choice(['#1b9e77','#d95f02','#7570b3']) for each in x]))\n",
    "\n",
    "### And now I'm adding the boxplots in the top middle plot\n",
    "\n",
    "#axes[0,1].boxplot([x,y], labels=[\"x-values\", \"y-values\"])\n",
    "#for item in (axes[0,1].get_xticklabels() + axes[0,1].get_yticklabels()):\n",
    "#    item.set_fontsize(18)\n",
    "\n",
    "### Now let's add a few lines to the right top plot\n",
    "### vlines() will add vertical lines to your plot, \n",
    "### you just need to specify the x-axis locations and the min and max y-axis corrdinates\n",
    "\n",
    "#axes[0,2].vlines([10,60], 0, 100)\n",
    "\n",
    "### hlines() is the same for horizontal lines, let's make one purple and the other green\n",
    "\n",
    "#axes[0,2].hlines([20,40], 0, 100, colors=['purple', 'green'])\n",
    "\n",
    "### How about a bar graph for the lower left, just use the bar() method\n",
    "### Play with the different arguments to see what they do\n",
    "\n",
    "#axes[1,0].bar(range(0,100,10), range(10), width=8)\n",
    "\n",
    "### For the middle bottom plot, lets make a heat map\n",
    "### For this, we will use the pcolor() fucntion, and we will use the viridis color map\n",
    "\n",
    "#axes[1,1].pcolor([range(5,10), range(7,12), range(9,14)], cmap='viridis')\n",
    "\n",
    "### Let's also modify the locations and labels of the x- and y- ticks\n",
    "\n",
    "#yticks = np.array(range(3))+0.5\n",
    "#axes[1,1].set_yticks(yticks)\n",
    "#axes[1,1].set_yticklabels(['one', 'two', 'three'])\n",
    "#xticks = np.array(range(5))+0.5\n",
    "#axes[1,1].set_xticks(xticks)\n",
    "#axes[1,1].set_xticklabels([\"one\", \"two\", \"three\", \"four\", \"five\"], rotation='vertical')\n",
    "#for item in (axes[1,1].get_xticklabels() + axes[1,1].get_yticklabels()):\n",
    "#    item.set_fontsize(14)\n",
    "\n",
    "### Alright, for the final plot, lets just draw a sqaure, add a text label and remove the physical axes\n",
    "### For this, we will need the patches module of Matplotlib\n",
    "\n",
    "#import matplotlib.patches as patches\n",
    "\n",
    "### First, make the square. The lower left corner is at position (0,0.3) and it has width of 1 and height of 0.4\n",
    "\n",
    "box = patches.Rectangle((0,0.3), 1, 0.4, color='grey', alpha=0.6)\n",
    "\n",
    "### Then we add the patch to the plot\n",
    "\n",
    "axes[1,2].add_patch(box)\n",
    "\n",
    "### Then let's add the test\n",
    "\n",
    "axes[1,2].text(0.5, 0.5, 'Examples', horizontalalignment='center', verticalalignment='center', fontsize=50)\n",
    "\n",
    "### And finally remove the axes\n",
    "\n",
    "#axes[1,2].spines['top'].set_visible(False)\n",
    "#axes[1,2].spines['right'].set_visible(False)\n",
    "#axes[1,2].spines['left'].set_visible(False)\n",
    "#axes[1,2].spines['bottom'].set_visible(False)\n",
    "#axes[1,2].tick_params(size=0)\n",
    "#axes[1,2].set_xticklabels([])\n",
    "#axes[1,2].set_yticklabels([])    \n"
   ]
  },
  {
   "cell_type": "code",
   "execution_count": null,
   "metadata": {
    "collapsed": true
   },
   "outputs": [],
   "source": [
    "########################\n",
    "###  Exercise 2.2    ###\n",
    "########################\n",
    "\n",
    "### 'case_data.txt' contains weekly case counts of Ebola virus disease in Liberia through 2014 and part of 2015\n",
    "### Read in the data from this file creating one list containing the floating points from the'date' column\n",
    "### And a second list containing the integers from the'count' column\n",
    "### Then create a single figure containing three plots (1 column, 3 rows)\n",
    "### For the top plot, use the plot() function to generate a line plot with date on the x-axis and count on the y\n",
    "    ### Include the 'marker' argument so that the actual positions of the data points are clearly shown\n",
    "### For the middle plot, use the fill_between() method to make an alternative verion of the top plot, where the space under the curve is filled with a solid color\n",
    "    ### https://matplotlib.org/api/_as_gen/matplotlib.axes.Axes.fill_between.html\n",
    "### And for the last plot, generate a histogram of the 'count' data\n"
   ]
  },
  {
   "cell_type": "code",
   "execution_count": null,
   "metadata": {
    "collapsed": true
   },
   "outputs": [],
   "source": [
    "########################\n",
    "###  Exercise 2.3    ###\n",
    "########################\n",
    "\n",
    "### 'importexport.txt' contains phylogeographical data, \n",
    "### specifically the number of times Ebola was imported to and exported from to regions of the capital city\n",
    "### And these counts are broken out, for both locations, by month and year\n",
    "### Generate a figure with two plots, one of exports and one for imports\n",
    "### In each plot, use the pcolor() method to generate a heatmap with:\n",
    "    ### 2 rows (one for each location)\n",
    "    ### And 18 columns (one for each year-month)\n",
    "### Make sure to label each row, column and plot appropriately\n",
    "### And, if you want to explore different color maps: https://matplotlib.org/examples/color/colormaps_reference.html\n",
    "### For 'extra credit' add a colorbar: https://stackoverflow.com/questions/32462881/add-colorbar-to-existing-axis\n"
   ]
  }
 ],
 "metadata": {
  "kernelspec": {
   "display_name": "Python 2",
   "language": "python",
   "name": "python2"
  },
  "language_info": {
   "codemirror_mode": {
    "name": "ipython",
    "version": 2
   },
   "file_extension": ".py",
   "mimetype": "text/x-python",
   "name": "python",
   "nbconvert_exporter": "python",
   "pygments_lexer": "ipython2",
   "version": "2.7.14"
  }
 },
 "nbformat": 4,
 "nbformat_minor": 2
}
